{
  "nbformat": 4,
  "nbformat_minor": 0,
  "metadata": {
    "colab": {
      "name": "Linear Regression Using Gradient Descent.ipynb",
      "provenance": [],
      "collapsed_sections": [],
      "authorship_tag": "ABX9TyOuAWVLVafLKhvQQJXmntQt",
      "include_colab_link": true
    },
    "kernelspec": {
      "name": "python3",
      "display_name": "Python 3"
    },
    "language_info": {
      "name": "python"
    }
  },
  "cells": [
    {
      "cell_type": "markdown",
      "metadata": {
        "id": "view-in-github",
        "colab_type": "text"
      },
      "source": [
        "<a href=\"https://colab.research.google.com/github/CodeJaymes/Machine-Learn/blob/ML/Linear_Regression_Using_Gradient_Descent.ipynb\" target=\"_parent\"><img src=\"https://colab.research.google.com/assets/colab-badge.svg\" alt=\"Open In Colab\"/></a>"
      ]
    },
    {
      "cell_type": "code",
      "execution_count": null,
      "metadata": {
        "id": "EXvZ2I9IvwZF"
      },
      "outputs": [],
      "source": [
        ""
      ]
    },
    {
      "cell_type": "code",
      "source": [
        ""
      ],
      "metadata": {
        "id": "Y05sQWblm7nG"
      },
      "execution_count": null,
      "outputs": []
    },
    {
      "cell_type": "markdown",
      "source": [
        "**Building my First Linear Regression Model **"
      ],
      "metadata": {
        "id": "nb-7f4H-vyj8"
      }
    },
    {
      "cell_type": "code",
      "source": [
        ""
      ],
      "metadata": {
        "id": "UJDNNdlev7I9"
      },
      "execution_count": null,
      "outputs": []
    },
    {
      "cell_type": "markdown",
      "source": [
        "Basically, A linear  Regression is a model that is used to predict the a particular corresponding value, given an input \n",
        "\n",
        "Say For Example \n",
        "I have two variables, Liquidity(Cash) and Houses I can build \n",
        "The type of house or number of houses I can build depends on how much  money I have  \n",
        "So the higher my liquidty, the greater the number of houses \n",
        "In othe words: There is a direct proportionality between liquidty and structure "
      ],
      "metadata": {
        "id": "gA-DsBQtv9mp"
      }
    },
    {
      "cell_type": "code",
      "source": [
        "# Therefore a linear regression model in its simplest form is a straight line defined by y = mx + c \n",
        "# m in this case is our slope or weights (w) in ML and c(intercept) is called the bias \n",
        "# Rewriting our formaula , we have y = wx + b\n",
        "# In order to start building , we will define our model name , Linear Regression in this case \n",
        "\n",
        "class Linear_Regression():\n",
        " \n",
        " # The next step is to understand the functions that will be within our class \n",
        " # We start by initializing our class with the important parameters of gradient descent, namely the number of iterations and the learning rate \n",
        "\n",
        "  def __init__(self, learning_rate,no_of_iterations):\n",
        "    self.learning_rate = learning_rate \n",
        "    self.no_of_iterations =  no_of_iterations\n",
        "\n",
        "\n",
        "  def fit(self,X,Y):\n",
        "\n",
        "\n",
        "    self.X =  X #initialize all the features of the dataset and store them in X  \n",
        "    self.Y = Y  #initialize all the targets(what we want to predict) of the dataset and store them in Y  \n",
        "\n",
        "\n",
        "    #r and c is being used to store the number of rows  and columns generated from the input data here (X.shape )\n",
        "    self.r, self.c = X.shape\n",
        "    \n",
        "    #initializing the slope and intercept to zero\n",
        "    self.w =  np.zeros(self.c) #Here we just created a numpy array of c columns where c is the number of faetures, to accomodate  multiple regression problem\n",
        "    self.b =  0   \n",
        "\n",
        "    #Easily put, a LR problem can have multiple slope but only one intercept per time \n",
        "\n",
        " \n",
        "    \n",
        "    #Implementing the gradient descent algo\n",
        "    for i in range (self.no_of_iterations):\n",
        "       self.update_weights()\n",
        "\n",
        "\n",
        "\n",
        "  def update_weights(self):\n",
        "          y_prediction = self.predict(self.X)\n",
        "\n",
        "          dw = - (2 * np.sum(self.X.T).dot(self.Y - y_prediction))/ self.r\n",
        "          db = - (2 * np.sum(self.Y - y_prediction))/ self.r\n",
        "\n",
        "          # Updating the weight\n",
        "          # w = w-@db\n",
        "          #b = b-@wb\n",
        "          self.w = self.w - (self.learning_rate * dw)\n",
        "          self.b = self.b - (self.learning_rate * db)\n",
        "\n",
        "  def predict(self, X):\n",
        "     return X.dot(self.w) + self.b\n",
        "\n",
        "     #Here we are returning y = mx+c, the equation of the line at that target price\n",
        "\n",
        "\n",
        "\n"
      ],
      "metadata": {
        "id": "GABTd8z5w_5h"
      },
      "execution_count": null,
      "outputs": []
    },
    {
      "cell_type": "code",
      "source": [
        "import numpy as np \n",
        "import pandas as pd\n",
        "from sklearn.model_selection import train_test_split\n",
        "import matplotlib.pyplot as plt\n",
        "\n",
        "\n",
        "salary_data =  pd.read_csv('/content/salary_data.csv')\n",
        "#salary_data.head()\n",
        "#print(salary_data.isnull().sum())\n",
        "\n",
        "X = salary_data.iloc[:,:-1]\n",
        "Y = salary_data.iloc[:, 1]\n",
        "\n",
        "\n"
      ],
      "metadata": {
        "id": "N7fXsjoym84j",
        "colab": {
          "base_uri": "https://localhost:8080/"
        },
        "outputId": "7493bea2-f84a-437d-9c4e-15964e800cd9"
      },
      "execution_count": null,
      "outputs": [
        {
          "output_type": "stream",
          "name": "stdout",
          "text": [
            "YearsExperience    0\n",
            "Salary             0\n",
            "dtype: int64\n"
          ]
        }
      ]
    },
    {
      "cell_type": "code",
      "source": [
        "model = Linear_Regression(learning_rate = 0.02, no_of_iterations = 1000)\n",
        "x_train, x_test,y_train, y_test = train_test_split(X,Y,test_size = 0.22, random_state = 2)\n",
        "\n",
        "#Training the model now \n",
        "\n",
        "training_data = model.fit(x_train, y_train)\n",
        "\n",
        "#Predict the salary for a test date\n",
        "\n",
        "test_predict = model.predict(x_test)\n",
        "\n",
        "print(test_predict)\n",
        "\n",
        "\n",
        "\n",
        "\n",
        "\n"
      ],
      "metadata": {
        "id": "B04qBvVVnim1",
        "colab": {
          "base_uri": "https://localhost:8080/"
        },
        "outputId": "1c94e3db-7679-491e-bb31-8ea3b0b89236"
      },
      "execution_count": null,
      "outputs": [
        {
          "output_type": "stream",
          "name": "stdout",
          "text": [
            "1      37025.579043\n",
            "0      35143.209445\n",
            "14     67143.492615\n",
            "9      59614.014222\n",
            "21     91614.297392\n",
            "19     81261.264601\n",
            "23    101967.330182\n",
            "dtype: float64\n"
          ]
        }
      ]
    },
    {
      "cell_type": "code",
      "source": [
        "print('Weight or Slope  of Dataset :', model.w[0])\n",
        "print('Bias or Intercept of Dataset :', model.b)"
      ],
      "metadata": {
        "colab": {
          "base_uri": "https://localhost:8080/"
        },
        "id": "e3pWL73gtNmA",
        "outputId": "070965e3-3393-4d51-ed55-960baa155141"
      },
      "execution_count": null,
      "outputs": [
        {
          "output_type": "stream",
          "name": "stdout",
          "text": [
            "Weight or Slope  of Dataset : 9411.84799105632\n",
            "Bias or Intercept of Dataset : 24790.1766550812\n"
          ]
        }
      ]
    },
    {
      "cell_type": "code",
      "source": [
        "#Lets visualize the prediction \n",
        "plt.scatter(x_test, y_test, color = 'blue')\n",
        "plt.plot(x_test,test_predict, color ='red')\n",
        "plt.xlabel('Years of Experience')\n",
        "plt.ylabel('Salary')\n",
        "plt.title('Salary vs Years of Experience')\n",
        "plt.legend(['Test_data', 'Predicted_data'],loc =\"lower right\")\n",
        "plt.show()"
      ],
      "metadata": {
        "colab": {
          "base_uri": "https://localhost:8080/",
          "height": 295
        },
        "id": "GO8a4i9ct7Ah",
        "outputId": "914a3841-5a4a-4f8f-f95a-1bc125578835"
      },
      "execution_count": null,
      "outputs": [
        {
          "output_type": "display_data",
          "data": {
            "image/png": "[encoded data removed]",
            "text/plain": [
              "<Figure size 432x288 with 1 Axes>"
            ]
          },
          "metadata": {
            "needs_background": "light"
          }
        }
      ]
    },
    {
      "cell_type": "code",
      "source": [
        "from sklearn.metrics import r2_score , mean_squared_error \n",
        "x_train_accuracy = r2_score(y_test,test_predict)\n",
        "MSE = mean_squared_error(y_test,test_predict)\n",
        "RMSE = mean_squared_error(y_test,test_predict, squared = False)\n",
        "print(x_train_accuracy)\n",
        "print(MSE)\n",
        "print(RMSE)"
      ],
      "metadata": {
        "id": "SFj7Esyw1jOw",
        "colab": {
          "base_uri": "https://localhost:8080/"
        },
        "outputId": "48760d7c-8e78-400d-e4ec-b8467159ac66"
      },
      "execution_count": 45,
      "outputs": [
        {
          "output_type": "stream",
          "name": "stdout",
          "text": [
            "0.9017891072722813\n",
            "69936646.53775714\n",
            "8362.813314773752\n"
          ]
        }
      ]
    },
    {
      "cell_type": "code",
      "source": [
        ""
      ],
      "metadata": {
        "id": "_A5hamdE6okd"
      },
      "execution_count": null,
      "outputs": []
    }
  ]
}