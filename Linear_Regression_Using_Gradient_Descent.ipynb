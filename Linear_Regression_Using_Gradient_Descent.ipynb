{
  "nbformat": 4,
  "nbformat_minor": 0,
  "metadata": {
    "colab": {
      "name": "Linear Regression Using Gradient Descent.ipynb",
      "provenance": [],
      "collapsed_sections": [],
      "authorship_tag": "ABX9TyN57uXjc+J+Hy+Pbil/nRAe",
      "include_colab_link": true
    },
    "kernelspec": {
      "name": "python3",
      "display_name": "Python 3"
    },
    "language_info": {
      "name": "python"
    }
  },
  "cells": [
    {
      "cell_type": "markdown",
      "metadata": {
        "id": "view-in-github",
        "colab_type": "text"
      },
      "source": [
        "<a href=\"https://colab.research.google.com/github/CodeJaymes/Machine-Learn/blob/main/Linear_Regression_Using_Gradient_Descent.ipynb\" target=\"_parent\"><img src=\"https://colab.research.google.com/assets/colab-badge.svg\" alt=\"Open In Colab\"/></a>"
      ]
    },
    {
      "cell_type": "code",
      "execution_count": null,
      "metadata": {
        "id": "EXvZ2I9IvwZF"
      },
      "outputs": [],
      "source": [
        ""
      ]
    },
    {
      "cell_type": "markdown",
      "source": [
        "**Building my First Linear Regression Model **"
      ],
      "metadata": {
        "id": "nb-7f4H-vyj8"
      }
    },
    {
      "cell_type": "code",
      "source": [
        ""
      ],
      "metadata": {
        "id": "UJDNNdlev7I9"
      },
      "execution_count": null,
      "outputs": []
    },
    {
      "cell_type": "markdown",
      "source": [
        "Basically, A linear  Regression is a model that is used to predict the a particular corresponding value, given an input \n",
        "\n",
        "Say For Example \n",
        "I have two variables, Liquidity(Cash) and Houses I can build \n",
        "The type of house or number of houses I can build depends on how much  money I have  \n",
        "So the higher my liquidty, the greater the number of houses \n",
        "In othe words: There is a direct proportionality between liquidty and structure "
      ],
      "metadata": {
        "id": "gA-DsBQtv9mp"
      }
    },
    {
      "cell_type": "code",
      "source": [
        "# Therefore a linear regression model in its simplest form is a straight line defined by y = mx + c \n",
        "# m in this case is our slope or weights (w) in ML and c(intercept) is called the bias \n",
        "# Rewriting our formaula , we have y = wx + b\n",
        "# In order to start building , we will define our model name , Linear Regression in this case \n",
        "\n",
        "class Linear_Regression():\n",
        " \n",
        " # The next step is to understand the functions that will be within our class \n",
        " # We start by initializing our class with the important parameters of gradient descent, namely the number of iterations and the learning rate \n",
        "\n",
        "  def __init__(self, learning_rate,no_of_iterations):\n",
        "    self.learning_rate = learning_rate \n",
        "    self.no_of_iterations =  no_of_iterations\n",
        "\n",
        "\n",
        "  def fit(self,X,Y):\n",
        "\n",
        "\n",
        "    self.X =  X #initialize all the features of the dataset and store them in X  \n",
        "    self.Y = Y  #initialize all the targets(what we want to predict) of the dataset and store them in Y  \n",
        "\n",
        "\n",
        "    #r and c is being used to store the number of rows  and columns generated from the input data here (X.shape )\n",
        "    self.r, self.c = X.shape\n",
        "    \n",
        "    #initializing the slope and intercept to zero\n",
        "    self.w =  np.zeros(self.c) #Here we just created a numpy array of c columns where c is the number of faetures, to accomodate  multiple regression problem\n",
        "    self.b =  0   \n",
        "\n",
        "    #Easily put, a LR problem can have multiple slope but only one intercept per time \n",
        "\n",
        " \n",
        "    \n",
        "    #Implementing the gradient descent algo\n",
        "     for i in range (self.no_of_iterations):\n",
        "       self.update_weights()\n",
        "\n",
        "\n",
        "\n",
        "  def update_weights(self):\n",
        "          y_prediction = self.predict(self.X)\n",
        "\n",
        "          dw = - (2 * np.sum(self_X.T).dot(self.Y - y_prediction)))/ self.r\n",
        "          db = - (2 * np.sum(self.Y - y_prediction))/ self.r\n",
        "\n",
        "          # Updating the weight\n",
        "          # w = w-@db\n",
        "          #b = b-@wb\n",
        "          self.w = self.w - self.learning_rate*dw\n",
        "          self.b = self.b - self.learning_rate*db\n",
        "\n",
        "  def predict(self,X)\n",
        "     return X.dot(self.w) + self.b\n",
        "\n",
        "     #Here we are returning y = mx+c, the equation of the line at that target price\n",
        "\n",
        "\n",
        "\n"
      ],
      "metadata": {
        "id": "GABTd8z5w_5h"
      },
      "execution_count": null,
      "outputs": []
    }
  ]
}